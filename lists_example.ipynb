{
 "cells": [
  {
   "cell_type": "code",
   "execution_count": 1,
   "metadata": {},
   "outputs": [
    {
     "name": "stdout",
     "output_type": "stream",
     "text": [
      "['jan', 'mar', 'apr', 'jun']\n",
      "4\n",
      "apr\n",
      "jun\n"
     ]
    }
   ],
   "source": [
    "months = ['jan', 'mar', 'apr', 'jun']\n",
    "print(months)\n",
    "print(len(months))\n",
    "print(months[2])\n",
    "print(months[-1])"
   ]
  },
  {
   "cell_type": "markdown",
   "metadata": {},
   "source": [
    "# # list slicing"
   ]
  },
  {
   "cell_type": "code",
   "execution_count": 2,
   "metadata": {},
   "outputs": [
    {
     "name": "stdout",
     "output_type": "stream",
     "text": [
      "['jan', 'mar']\n",
      "['jan', 'mar']\n",
      "['mar', 'apr', 'jun']\n"
     ]
    }
   ],
   "source": [
    "print(months[0:2])\n",
    "print(months[:2])\n",
    "print(months[1:])"
   ]
  },
  {
   "cell_type": "markdown",
   "metadata": {},
   "source": [
    "# # List Methods - insert()"
   ]
  },
  {
   "cell_type": "code",
   "execution_count": 3,
   "metadata": {
    "scrolled": true
   },
   "outputs": [
    {
     "name": "stdout",
     "output_type": "stream",
     "text": [
      "['jan', 'mar', 'apr', 'jun']\n",
      "['jan', 'feb', 'mar', 'apr', 'jun']\n"
     ]
    }
   ],
   "source": [
    "print(months)\n",
    "months.insert(1, 'feb')\n",
    "print(months)\n",
    "new_months = ['aug','sep','nov']\n",
    "#months.insert(5,new_months)\n",
    "#print(months)"
   ]
  },
  {
   "cell_type": "markdown",
   "metadata": {},
   "source": [
    "# # List Methods - extend()"
   ]
  },
  {
   "cell_type": "code",
   "execution_count": 4,
   "metadata": {},
   "outputs": [
    {
     "name": "stdout",
     "output_type": "stream",
     "text": [
      "['jan', 'feb', 'mar', 'apr', 'jun', 'aug', 'sep', 'nov']\n"
     ]
    }
   ],
   "source": [
    "months.extend(new_months)\n",
    "print(months)"
   ]
  },
  {
   "cell_type": "markdown",
   "metadata": {},
   "source": [
    "# # List Methods - remove()"
   ]
  },
  {
   "cell_type": "code",
   "execution_count": 5,
   "metadata": {
    "scrolled": false
   },
   "outputs": [
    {
     "name": "stdout",
     "output_type": "stream",
     "text": [
      "['jan', 'feb', 'mar', 'apr', 'jun', 'aug', 'sep']\n",
      "nov\n"
     ]
    }
   ],
   "source": [
    "#months.remove('feb')\n",
    "#print(months)\n",
    "removed_month = months.pop()\n",
    "print(months)\n",
    "print(removed_month)"
   ]
  },
  {
   "cell_type": "markdown",
   "metadata": {},
   "source": [
    "# # List Methods - reverse()"
   ]
  },
  {
   "cell_type": "code",
   "execution_count": 6,
   "metadata": {
    "scrolled": true
   },
   "outputs": [
    {
     "name": "stdout",
     "output_type": "stream",
     "text": [
      "['sep', 'aug', 'jun', 'apr', 'mar', 'feb', 'jan']\n"
     ]
    }
   ],
   "source": [
    "months.reverse()\n",
    "print(months)"
   ]
  },
  {
   "cell_type": "markdown",
   "metadata": {},
   "source": [
    "# # List Methods - sort()"
   ]
  },
  {
   "cell_type": "code",
   "execution_count": 7,
   "metadata": {
    "scrolled": true
   },
   "outputs": [
    {
     "name": "stdout",
     "output_type": "stream",
     "text": [
      "['apr', 'aug', 'feb', 'jan', 'jun', 'mar', 'sep']\n",
      "[1, 3, 5, 7, 8]\n",
      "['sep', 'mar', 'jun', 'jan', 'feb', 'aug', 'apr']\n",
      "[8, 7, 5, 3, 1]\n"
     ]
    }
   ],
   "source": [
    "months.sort()\n",
    "print(months)\n",
    "month_nos = [1,3,8,5,7]\n",
    "month_nos.sort()\n",
    "print(month_nos)\n",
    "\n",
    "# sort in reverse\n",
    "months.sort(reverse=True)\n",
    "print(months)\n",
    "month_nos = [1,3,8,5,7]\n",
    "month_nos.sort(reverse=True)\n",
    "print(month_nos)\n",
    "\n"
   ]
  },
  {
   "cell_type": "code",
   "execution_count": 8,
   "metadata": {},
   "outputs": [
    {
     "name": "stdout",
     "output_type": "stream",
     "text": [
      "['sep', 'mar', 'jun', 'jan', 'feb', 'aug', 'apr']\n",
      "['apr', 'aug', 'feb', 'jan', 'jun', 'mar', 'sep']\n"
     ]
    }
   ],
   "source": [
    "# sort and save the list into another variable without altering the original\n",
    "sorted_months = sorted(months)\n",
    "print(months)\n",
    "print(sorted_months)"
   ]
  },
  {
   "cell_type": "markdown",
   "metadata": {},
   "source": [
    "# # List Methods - min(), max(), sum()"
   ]
  },
  {
   "cell_type": "code",
   "execution_count": 9,
   "metadata": {},
   "outputs": [
    {
     "name": "stdout",
     "output_type": "stream",
     "text": [
      "[8, 7, 5, 3, 1]\n",
      "1\n",
      "8\n",
      "24\n"
     ]
    }
   ],
   "source": [
    "print(month_nos)\n",
    "print(min(month_nos))\n",
    "print(max(month_nos))\n",
    "print(sum(month_nos))"
   ]
  },
  {
   "cell_type": "markdown",
   "metadata": {},
   "source": [
    "# finding index and checking existance"
   ]
  },
  {
   "cell_type": "code",
   "execution_count": 10,
   "metadata": {},
   "outputs": [
    {
     "name": "stdout",
     "output_type": "stream",
     "text": [
      "['sep', 'mar', 'jun', 'jan', 'feb', 'aug', 'apr']\n",
      "1\n",
      "False\n"
     ]
    }
   ],
   "source": [
    "print(months)\n",
    "print(months.index('mar'))\n",
    "print('dec' in months)"
   ]
  },
  {
   "cell_type": "markdown",
   "metadata": {},
   "source": [
    "# # Loop through the list"
   ]
  },
  {
   "cell_type": "code",
   "execution_count": 11,
   "metadata": {
    "scrolled": true
   },
   "outputs": [
    {
     "name": "stdout",
     "output_type": "stream",
     "text": [
      "sep\n",
      "mar\n",
      "jun\n",
      "jan\n",
      "feb\n",
      "aug\n",
      "apr\n",
      "0 sep\n",
      "1 mar\n",
      "2 jun\n",
      "3 jan\n",
      "4 feb\n",
      "5 aug\n",
      "6 apr\n"
     ]
    }
   ],
   "source": [
    "for month in months:\n",
    "    print(month)\n",
    "    \n",
    "#print the index also\n",
    "for index, month in enumerate(months):\n",
    "    print(index, month)\n",
    "    "
   ]
  },
  {
   "cell_type": "markdown",
   "metadata": {},
   "source": [
    "# # join to convert list into string"
   ]
  },
  {
   "cell_type": "code",
   "execution_count": 12,
   "metadata": {},
   "outputs": [
    {
     "name": "stdout",
     "output_type": "stream",
     "text": [
      "sep, mar, jun, jan, feb, aug, apr\n",
      "['sep', 'mar', 'jun', 'jan', 'feb', 'aug', 'apr']\n"
     ]
    }
   ],
   "source": [
    "months_string = ', '.join(months)\n",
    "print(months_string)\n",
    "\n",
    "# covert string to list\n",
    "months = months_string.split(', ')\n",
    "print(months)"
   ]
  },
  {
   "cell_type": "code",
   "execution_count": 20,
   "metadata": {},
   "outputs": [
    {
     "data": {
      "text/plain": [
       "[0, 2, 4, 6, 8]"
      ]
     },
     "execution_count": 20,
     "metadata": {},
     "output_type": "execute_result"
    }
   ],
   "source": [
    "# list comprehension\n",
    "[x for x  in range(0,10) if x%2==0]"
   ]
  },
  {
   "cell_type": "code",
   "execution_count": 15,
   "metadata": {},
   "outputs": [
    {
     "data": {
      "text/plain": [
       "[0, 1, 2, 3, 4, 5, 6, 7, 8, 9]"
      ]
     },
     "execution_count": 15,
     "metadata": {},
     "output_type": "execute_result"
    }
   ],
   "source": [
    "[x for x in range(10)]"
   ]
  },
  {
   "cell_type": "code",
   "execution_count": null,
   "metadata": {},
   "outputs": [],
   "source": []
  }
 ],
 "metadata": {
  "kernelspec": {
   "display_name": "Python 3 (ipykernel)",
   "language": "python",
   "name": "python3"
  },
  "language_info": {
   "codemirror_mode": {
    "name": "ipython",
    "version": 3
   },
   "file_extension": ".py",
   "mimetype": "text/x-python",
   "name": "python",
   "nbconvert_exporter": "python",
   "pygments_lexer": "ipython3",
   "version": "3.9.13"
  }
 },
 "nbformat": 4,
 "nbformat_minor": 2
}
