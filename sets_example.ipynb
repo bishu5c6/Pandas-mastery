{
 "cells": [
  {
   "cell_type": "code",
   "execution_count": 1,
   "metadata": {},
   "outputs": [
    {
     "name": "stdout",
     "output_type": "stream",
     "text": [
      "{'jun', 'apr', 'jan', 'mar', 'may', 'feb'}\n"
     ]
    }
   ],
   "source": [
    "set_month = {'jan','feb','mar','apr','jun','jun','may'}\n",
    "print(set_month)"
   ]
  },
  {
   "cell_type": "code",
   "execution_count": 2,
   "metadata": {},
   "outputs": [
    {
     "name": "stdout",
     "output_type": "stream",
     "text": [
      "False\n"
     ]
    }
   ],
   "source": [
    "#check if some value is present inside the set\n",
    "print('dec' in set_month)"
   ]
  },
  {
   "cell_type": "markdown",
   "metadata": {},
   "source": [
    "# # set operations"
   ]
  },
  {
   "cell_type": "code",
   "execution_count": 3,
   "metadata": {},
   "outputs": [
    {
     "name": "stdout",
     "output_type": "stream",
     "text": [
      "{'jun', 'apr', 'mar', 'may'}\n"
     ]
    }
   ],
   "source": [
    "set_more_months = {'mar','apr','may','jun'}\n",
    "#intersection \n",
    "print(set_month.intersection(set_more_months))"
   ]
  },
  {
   "cell_type": "code",
   "execution_count": 4,
   "metadata": {},
   "outputs": [
    {
     "name": "stdout",
     "output_type": "stream",
     "text": [
      "{'apr', 'jan', 'may', 'feb', 'jun', 'mar'}\n"
     ]
    }
   ],
   "source": [
    "#union \n",
    "print(set_month.union(set_more_months))"
   ]
  },
  {
   "cell_type": "code",
   "execution_count": 5,
   "metadata": {},
   "outputs": [
    {
     "name": "stdout",
     "output_type": "stream",
     "text": [
      "{'jan', 'feb'}\n"
     ]
    }
   ],
   "source": [
    "#difference \n",
    "print(set_month.difference(set_more_months))"
   ]
  },
  {
   "cell_type": "code",
   "execution_count": 6,
   "metadata": {},
   "outputs": [],
   "source": [
    "#define an empty set\n",
    "empty_set = set()\n",
    "\n",
    "#define an empty list\n",
    "empty_list = []\n",
    "empty_list = list()\n",
    "\n",
    "#define an empty tuple\n",
    "empty_tuple = ()\n",
    "empty_tuple = tuple()"
   ]
  },
  {
   "cell_type": "code",
   "execution_count": null,
   "metadata": {},
   "outputs": [],
   "source": []
  }
 ],
 "metadata": {
  "kernelspec": {
   "display_name": "Python 3 (ipykernel)",
   "language": "python",
   "name": "python3"
  },
  "language_info": {
   "codemirror_mode": {
    "name": "ipython",
    "version": 3
   },
   "file_extension": ".py",
   "mimetype": "text/x-python",
   "name": "python",
   "nbconvert_exporter": "python",
   "pygments_lexer": "ipython3",
   "version": "3.9.13"
  }
 },
 "nbformat": 4,
 "nbformat_minor": 2
}
